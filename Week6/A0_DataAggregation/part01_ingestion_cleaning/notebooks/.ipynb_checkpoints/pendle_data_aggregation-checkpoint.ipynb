{
 "cells": [
  {
   "cell_type": "markdown",
   "id": "db5ae633",
   "metadata": {},
   "source": [
    "# 📊 Multi-Source Data Aggregation for Market Context Modeling\n",
    "\n",
    "This notebook builds a consolidated pipeline for collecting and merging:\n",
    "\n",
    "- **Market data** from Yahoo Finance  \n",
    "- **Macroeconomic indicators** from the FRED API  \n",
    "- **Sentiment signals** from Google Trends  \n",
    "\n",
    "These sources power downstream analysis and modeling for the Pendle project."
   ]
  },
  {
   "cell_type": "markdown",
   "id": "832651d7",
   "metadata": {},
   "source": [
    "## 📦 Setup & Imports"
   ]
  },
  {
   "cell_type": "code",
   "execution_count": null,
   "id": "769723d9",
   "metadata": {},
   "outputs": [],
   "source": [
    "import sys, os\n",
    "import pandas as pd\n",
    "sys.path.append(os.path.abspath(\"../scripts\"))"
   ]
  },
  {
   "cell_type": "markdown",
   "id": "7777c8c3",
   "metadata": {},
   "source": [
    "## 📈 Market Data: Yahoo Finance\n",
    "\n",
    "Daily OHLCV data for:\n",
    "- `^GSPC`, `^IXIC`, `^VIX`, `BTC-USD`  \n",
    "📁 Output: `../data/raw/yahoo_market_data.csv`"
   ]
  },
  {
   "cell_type": "code",
   "execution_count": null,
   "id": "56ef7c5c",
   "metadata": {},
   "outputs": [],
   "source": [
    "from fetch_yahoo import fetch_market_data\n",
    "\n",
    "# ⚠️ UNCOMMENT TO RUN ONCE\n",
    "# market_df = fetch_market_data(start=\"2000-01-01\", save_path=\"../data/raw/yahoo_market_data.csv\")\n",
    "\n",
    "# ✅ Load from cache\n",
    "market_df = pd.read_csv(\"../data/raw/yahoo_market_data.csv\", index_col=0, parse_dates=True)\n",
    "print(\"📅 Yahoo Finance Date Range:\", market_df.index.min(), \"→\", market_df.index.max())\n",
    "market_df.head()"
   ]
  },
  {
   "cell_type": "markdown",
   "id": "dbf6361b",
   "metadata": {},
   "source": [
    "## 📊 Macroeconomic Indicators: FRED\n",
    "\n",
    "Selected indicators:\n",
    "- Bond Yields (`DGS10`)\n",
    "- Inflation (`CPIAUCSL`)\n",
    "- Unemployment (`UNRATE`)\n",
    "- Interest Rates (`FEDFUNDS`)\n",
    "- Consumer Sentiment (`UMCSENT`)\n",
    "- GDP (`GDP`)  \n",
    "📁 Output: `../data/raw/fred_macro_data.csv`"
   ]
  },
  {
   "cell_type": "code",
   "execution_count": null,
   "id": "f2d2d089",
   "metadata": {},
   "outputs": [],
   "source": [
    "from fetch_fred import fetch_fred_series\n",
    "\n",
    "fred_series = {\n",
    "    \"Bond Yields\": \"DGS10\",\n",
    "    \"Inflation\": \"CPIAUCSL\",\n",
    "    \"Unemployment\": \"UNRATE\",\n",
    "    \"Interest Rate\": \"FEDFUNDS\",\n",
    "    \"Consumer Sentiment\": \"UMCSENT\",\n",
    "    \"GDP\": \"GDP\"\n",
    "}\n",
    "\n",
    "# ⚠️ UNCOMMENT TO RUN ONCE\n",
    "# macro_df = fetch_fred_series(fred_series, start=\"2000-01-01\", save_path=\"../data/raw/fred_macro_data.csv\")\n",
    "\n",
    "# ✅ Load from cache\n",
    "macro_df = pd.read_csv(\"../data/raw/fred_macro_data.csv\", index_col=0, parse_dates=True)\n",
    "print(\"📅 FRED Date Range:\", macro_df.index.min(), \"→\", macro_df.index.max())\n",
    "macro_df.head()"
   ]
  },
  {
   "cell_type": "markdown",
   "id": "a5d1acb4",
   "metadata": {},
   "source": [
    "## 🧠 Sentiment Signals: Google Trends\n",
    "\n",
    "Terms:\n",
    "- `\"market crash\"`, `\"recession\"`, `\"buy gold\"`, `\"stock market crash\"`  \n",
    "📁 Output: Chunked into 5 raw files → merged to `../data/processed/google_trends_full.csv`"
   ]
  },
  {
   "cell_type": "code",
   "execution_count": null,
   "id": "8cc2501b",
   "metadata": {},
   "outputs": [],
   "source": [
    "from fetch_sentiment import fetch_google_trends_by_year\n",
    "\n",
    "terms = [\"market crash\", \"recession\", \"buy gold\", \"stock market crash\"]"
   ]
  },
  {
   "cell_type": "markdown",
   "id": "579755c3",
   "metadata": {},
   "source": [
    "### ✅ Load and Merge Sentiment Chunks"
   ]
  },
  {
   "cell_type": "code",
   "execution_count": null,
   "id": "9bf19b19",
   "metadata": {},
   "outputs": [],
   "source": [
    "sentiment_chunks = [\"2004_2007\", \"2008_2011\", \"2012_2015\", \"2016_2019\", \"2020_2025\"]\n",
    "\n",
    "dfs = []\n",
    "for span in sentiment_chunks:\n",
    "    df = pd.read_csv(f\"../data/raw/google_trends_{span}.csv\", index_col=0, parse_dates=True)\n",
    "    print(f\"📅 Trends Chunk {span}:\", df.index.min(), \"→\", df.index.max())\n",
    "    dfs.append(df)\n",
    "\n",
    "sentiment_df = pd.concat(dfs).sort_index()\n",
    "sentiment_df.to_csv(\"../data/processed/google_trends_full.csv\")\n",
    "print(\"✅ Final merged sentiment dataset saved.\")"
   ]
  },
  {
   "cell_type": "markdown",
   "id": "af6efbbc",
   "metadata": {},
   "source": [
    "## 📦 Final Merge: Market + Macro + Sentiment"
   ]
  },
  {
   "cell_type": "code",
   "execution_count": null,
   "id": "8842be85",
   "metadata": {},
   "outputs": [],
   "source": [
    "# 📥 Load all cleaned datasets\n",
    "market_df = pd.read_csv(\"../data/raw/yahoo_market_data.csv\", index_col=0, parse_dates=True)\n",
    "macro_df = pd.read_csv(\"../data/raw/fred_macro_data.csv\", index_col=0, parse_dates=True)\n",
    "sentiment_df = pd.read_csv(\"../data/processed/google_trends_full.csv\", index_col=0, parse_dates=True)\n",
    "\n",
    "# 🔗 Merge all sources\n",
    "merged = market_df.join(macro_df, how=\"outer\").join(sentiment_df, how=\"outer\")\n",
    "merged = merged.sort_index()\n",
    "\n",
    "# 💾 Save full merged dataset\n",
    "merged.to_csv(\"../data/processed/merged_all_sources.csv\")\n",
    "\n",
    "# 👀 Preview merged output\n",
    "print(\"📊 Final Merged Dataset:\")\n",
    "print(\"Date Range:\", merged.index.min(), \"→\", merged.index.max())\n",
    "merged.head()"
   ]
  },
  {
   "cell_type": "markdown",
   "id": "6cf1abae",
   "metadata": {},
   "source": [
    "## ✅ Summary\n",
    "We successfully built a modular and interpretable ingestion pipeline for:\n",
    "\n",
    "- ✅ Daily market data (`yfinance`)\n",
    "- ✅ Macroeconomic indicators (`FRED`)\n",
    "- ✅ Sentiment trends (`Google Trends` via `pytrends`)\n",
    "\n",
    "📁 All data has been cached, aligned, and merged into a single file:\n",
    "```\n",
    "../data/processed/merged_all_sources.csv\n",
    "```\n",
    "\n",
    "Next steps: **EDA, lag feature engineering, and predictive modeling.**"
   ]
  }
 ],
 "metadata": {},
 "nbformat": 4,
 "nbformat_minor": 5
}
