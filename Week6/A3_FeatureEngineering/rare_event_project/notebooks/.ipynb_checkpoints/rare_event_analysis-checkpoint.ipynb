{
 "cells": [
  {
   "cell_type": "code",
   "execution_count": null,
   "id": "d3f7f575",
   "metadata": {},
   "outputs": [],
   "source": [
    "# 1. Project Setup\n",
    "import sys, os\n",
    "sys.path.append(os.path.abspath(\"../src\"))\n",
    "\n",
    "from preprocessing import load_and_prepare_data, split_and_scale, select_top_features\n",
    "from resampling import (\n",
    "    manual_upsampling, smote, adasyn, borderline_smote,\n",
    "    smote_tomek, smote_enn, random_undersample, cluster_centroids\n",
    ")\n",
    "from models import make_model\n",
    "from evaluation import evaluate_model\n",
    "\n",
    "import pandas as pd\n",
    "import seaborn as sns\n",
    "import matplotlib.pyplot as plt\n"
   ]
  },
  {
   "cell_type": "code",
   "execution_count": null,
   "id": "486053cb",
   "metadata": {},
   "outputs": [],
   "source": [
    "# 2. Load and Preprocess Data\n",
    "path = \"../data/synth_rare_event_data.csv\"\n",
    "target_col = \"rare_event\"\n",
    "\n",
    "X, y = load_and_prepare_data(path, target_col)\n",
    "X_train_scaled, X_test_scaled, y_train, y_test = split_and_scale(X, y)\n",
    "X_train, X_test, top_features = select_top_features(X_train_scaled, y_train, X_test_scaled, return_features=True)\n"
   ]
  },
  {
   "cell_type": "code",
   "execution_count": null,
   "id": "e72f8856",
   "metadata": {},
   "outputs": [],
   "source": [
    "# 3. Define Resampling Methods\n",
    "results = []\n",
    "\n",
    "resamplers = {\n",
    "    \"Manual Upsampling\": lambda: manual_upsampling(X_train, y_train, target_col),\n",
    "    \"SMOTE\": lambda: smote(X_train, y_train),\n",
    "    \"ADASYN\": lambda: adasyn(X_train, y_train),\n",
    "    \"Borderline SMOTE\": lambda: borderline_smote(X_train, y_train),\n",
    "    \"SMOTETomek\": lambda: smote_tomek(X_train, y_train),\n",
    "    \"SMOTEENN\": lambda: smote_enn(X_train, y_train),\n",
    "    \"Random Undersample\": lambda: random_undersample(X_train, y_train),\n",
    "    \"Cluster Centroids\": lambda: cluster_centroids(X_train, y_train),\n",
    "    \"No Resampling\": lambda: (X_train, y_train),\n",
    "}\n",
    "\n",
    "for name, sampler in resamplers.items():\n",
    "    X_res, y_res = sampler()\n",
    "    model = make_model()\n",
    "    model.fit(X_res, y_res)\n",
    "    evaluate_model(model, X_test, y_test, results=results, label=name)\n"
   ]
  },
  {
   "cell_type": "code",
   "execution_count": null,
   "id": "1f924a6b",
   "metadata": {},
   "outputs": [],
   "source": [
    "# 4. Compare All Results\n",
    "results_df = pd.DataFrame(results)\n",
    "display(results_df.sort_values(by=\"PR AUC\", ascending=False))\n",
    "\n",
    "plt.figure(figsize=(10, 5))\n",
    "sns.barplot(data=results_df.sort_values(by=\"PR AUC\", ascending=False), x=\"PR AUC\", y=\"Method\")\n",
    "plt.title(\"PR AUC Comparison\")\n",
    "plt.xlabel(\"PR AUC\")\n",
    "plt.ylabel(\"Resampling Method\")\n",
    "plt.grid(True)\n",
    "plt.show()\n"
   ]
  }
 ],
 "metadata": {},
 "nbformat": 4,
 "nbformat_minor": 5
}