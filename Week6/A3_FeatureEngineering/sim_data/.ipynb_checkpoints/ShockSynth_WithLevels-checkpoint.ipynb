{
 "cells": [
  {
   "cell_type": "code",
   "execution_count": 13,
   "id": "c09be0d5-8de0-4759-a3ce-de8a1c05f008",
   "metadata": {},
   "outputs": [
    {
     "ename": "ModuleNotFoundError",
     "evalue": "No module named 'SyntheticDataGenerator'",
     "output_type": "error",
     "traceback": [
      "\u001b[0;31m---------------------------------------------------------------------------\u001b[0m",
      "\u001b[0;31mModuleNotFoundError\u001b[0m                       Traceback (most recent call last)",
      "Cell \u001b[0;32mIn[13], line 3\u001b[0m\n\u001b[1;32m      1\u001b[0m \u001b[38;5;28;01mimport\u001b[39;00m \u001b[38;5;21;01mos\u001b[39;00m\n\u001b[1;32m      2\u001b[0m \u001b[38;5;28;01mimport\u001b[39;00m \u001b[38;5;21;01mpandas\u001b[39;00m \u001b[38;5;28;01mas\u001b[39;00m \u001b[38;5;21;01mpd\u001b[39;00m\n\u001b[0;32m----> 3\u001b[0m \u001b[38;5;28;01mfrom\u001b[39;00m \u001b[38;5;21;01mSyntheticDataGenerator\u001b[39;00m \u001b[38;5;28;01mimport\u001b[39;00m generate_market_shock_dataset\n\u001b[1;32m      5\u001b[0m \u001b[38;5;66;03m# 📁 Output folder\u001b[39;00m\n\u001b[1;32m      6\u001b[0m output_folder \u001b[38;5;241m=\u001b[39m \u001b[38;5;124m\"\u001b[39m\u001b[38;5;124mmarket_shock_datasets\u001b[39m\u001b[38;5;124m\"\u001b[39m\n",
      "\u001b[0;31mModuleNotFoundError\u001b[0m: No module named 'SyntheticDataGenerator'"
     ]
    }
   ],
   "source": [
    "import os\n",
    "import pandas as pd\n",
    "from synthetic_generator_core import generate_market_shock_dataset\n",
    "\n",
    "# 📁 Output folder\n",
    "output_folder = \"market_shock_datasets\"\n",
    "os.makedirs(output_folder, exist_ok=True)\n",
    "\n",
    "# ⚙️ Configurations\n",
    "difficulty_levels = [\"easy\", \"medium\", \"hard\", \"extreme\"]\n",
    "seeds_per_level = [1, 2, 3]  # You can add more for variation\n",
    "\n",
    "# 🔁 Generate and save\n",
    "for level in difficulty_levels:\n",
    "    for seed in seeds_per_level:\n",
    "        df = generate_market_shock_dataset(difficulty=level, random_state=seed)\n",
    "        filename = f\"marketshock_{level}_s{seed}.csv\"\n",
    "        filepath = os.path.join(output_folder, filename)\n",
    "        df.to_csv(filepath, index=False)\n",
    "        print(f\"[✅] Saved {filename}\")"
   ]
  },
  {
   "cell_type": "code",
   "execution_count": null,
   "id": "1e8add4a-7622-4a9c-a8b1-4bd4b546e40a",
   "metadata": {},
   "outputs": [],
   "source": []
  },
  {
   "cell_type": "code",
   "execution_count": null,
   "id": "ac6b0127-ba4a-4020-a353-3ac66165263a",
   "metadata": {},
   "outputs": [],
   "source": []
  }
 ],
 "metadata": {
  "kernelspec": {
   "display_name": "Python 3 (ipykernel)",
   "language": "python",
   "name": "python3"
  },
  "language_info": {
   "codemirror_mode": {
    "name": "ipython",
    "version": 3
   },
   "file_extension": ".py",
   "mimetype": "text/x-python",
   "name": "python",
   "nbconvert_exporter": "python",
   "pygments_lexer": "ipython3",
   "version": "3.11.5"
  }
 },
 "nbformat": 4,
 "nbformat_minor": 5
}
