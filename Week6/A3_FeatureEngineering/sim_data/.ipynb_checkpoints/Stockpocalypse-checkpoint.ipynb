{
 "cells": [
  {
   "cell_type": "code",
   "execution_count": 7,
   "id": "c09be0d5-8de0-4759-a3ce-de8a1c05f008",
   "metadata": {},
   "outputs": [
    {
     "ename": "AttributeError",
     "evalue": "'SyntheticRareEventGenerator' object has no attribute 'save_to_csv'",
     "output_type": "error",
     "traceback": [
      "\u001b[0;31m---------------------------------------------------------------------------\u001b[0m",
      "\u001b[0;31mAttributeError\u001b[0m                            Traceback (most recent call last)",
      "Cell \u001b[0;32mIn[7], line 22\u001b[0m\n\u001b[1;32m     20\u001b[0m df_stock \u001b[38;5;241m=\u001b[39m gen_stock\u001b[38;5;241m.\u001b[39madd_noise(df_stock)\n\u001b[1;32m     21\u001b[0m \u001b[38;5;66;03m# No drift applied here\u001b[39;00m\n\u001b[0;32m---> 22\u001b[0m gen_stock\u001b[38;5;241m.\u001b[39msave_to_csv(df_stock, \u001b[38;5;124m\"\u001b[39m\u001b[38;5;124m../synthetic_datasets/stock_prediction_clean.csv\u001b[39m\u001b[38;5;124m\"\u001b[39m)\n\u001b[1;32m     25\u001b[0m \u001b[38;5;66;03m# ✅ CONFIG 2: Market Shock Dataset (Rare Events, Drift, Overlap)\u001b[39;00m\n\u001b[1;32m     26\u001b[0m \u001b[38;5;66;03m# Goal: Test model survival under crisis conditions\u001b[39;00m\n\u001b[1;32m     27\u001b[0m gen_shock \u001b[38;5;241m=\u001b[39m SyntheticRareEventGenerator(\n\u001b[1;32m     28\u001b[0m     n_samples\u001b[38;5;241m=\u001b[39m\u001b[38;5;241m5000\u001b[39m,\n\u001b[1;32m     29\u001b[0m     n_features\u001b[38;5;241m=\u001b[39m\u001b[38;5;241m15\u001b[39m,\n\u001b[0;32m   (...)\u001b[0m\n\u001b[1;32m     34\u001b[0m     seed\u001b[38;5;241m=\u001b[39m\u001b[38;5;241m99\u001b[39m\n\u001b[1;32m     35\u001b[0m )\n",
      "\u001b[0;31mAttributeError\u001b[0m: 'SyntheticRareEventGenerator' object has no attribute 'save_to_csv'"
     ]
    }
   ],
   "source": [
    "import os\n",
    "from synthetic_generator_core import SyntheticRareEventGenerator\n",
    "\n",
    "# Ensure the output folder exists\n",
    "os.makedirs(\"../synthetic_datasets\", exist_ok=True)\n",
    "\n",
    "# ✅ CONFIG 1: Stock Prediction Dataset (Clean, Balanced, No Drift)\n",
    "# Goal: Learn day-to-day up/down movement, low noise, good signal\n",
    "gen_stock = SyntheticRareEventGenerator(\n",
    "    n_samples=5000,\n",
    "    n_features=15,\n",
    "    imbalance_ratio=0.5,       # Balanced up/down\n",
    "    noise_level=0.1,           # Low noise\n",
    "    concept_drift=0.0,         # No drift\n",
    "    rare_event_weight=0.0,     # No rare shocks\n",
    "    seed=42\n",
    ")\n",
    "\n",
    "df_stock = gen_stock.generate()\n",
    "df_stock = gen_stock.add_noise(df_stock)\n",
    "# No drift applied here\n",
    "SyntheticRareEventGenerator.save_to_csv(df_stock, \"../synthetic_datasets/stock_prediction_clean.csv\")\n",
    "\n",
    "\n",
    "# ✅ CONFIG 2: Market Shock Dataset (Rare Events, Drift, Overlap)\n",
    "# Goal: Test model survival under crisis conditions\n",
    "gen_shock = SyntheticRareEventGenerator(\n",
    "    n_samples=5000,\n",
    "    n_features=15,\n",
    "    imbalance_ratio=0.02,      # 2% major crash events\n",
    "    noise_level=0.3,           # Messy environment\n",
    "    concept_drift=0.6,         # Structural regime shift\n",
    "    rare_event_weight=0.8,     # Signal tied to a few features\n",
    "    seed=99\n",
    ")\n",
    "\n",
    "df_shock = gen_shock.generate()\n",
    "df_shock = gen_shock.add_noise(df_shock)\n",
    "df_shock = gen_shock.inject_drift(df_shock)\n",
    "# Save datasets properly using the class directly\n",
    "SyntheticRareEventGenerator.save_to_csv(df_shock, \"../synthetic_datasets/market_shock_sim.csv\")"
   ]
  },
  {
   "cell_type": "code",
   "execution_count": null,
   "id": "1e8add4a-7622-4a9c-a8b1-4bd4b546e40a",
   "metadata": {},
   "outputs": [],
   "source": []
  }
 ],
 "metadata": {
  "kernelspec": {
   "display_name": "Python 3 (ipykernel)",
   "language": "python",
   "name": "python3"
  },
  "language_info": {
   "codemirror_mode": {
    "name": "ipython",
    "version": 3
   },
   "file_extension": ".py",
   "mimetype": "text/x-python",
   "name": "python",
   "nbconvert_exporter": "python",
   "pygments_lexer": "ipython3",
   "version": "3.11.5"
  }
 },
 "nbformat": 4,
 "nbformat_minor": 5
}
